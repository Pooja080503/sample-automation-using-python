{
  "nbformat": 4,
  "nbformat_minor": 0,
  "metadata": {
    "colab": {
      "provenance": []
    },
    "kernelspec": {
      "name": "python3",
      "display_name": "Python 3"
    },
    "language_info": {
      "name": "python"
    }
  },
  "cells": [
    {
      "cell_type": "code",
      "source": [
        "# Define the file name\n",
        "file_name = \"automated_file.txt\"\n",
        "# Define the text to write\n",
        "text = \"Hello! This is an automated file with text.\"\n",
        "\n",
        "# Open the file in write mode (this will create the file if it doesn't exist)\n",
        "with open(file_name, 'w') as file:\n",
        "    # Indent this line to include it in the 'with' block\n",
        "    file.write(text)\n",
        "\n",
        "print(f\"File '{file_name}' has been created and the message has been written.\")"
      ],
      "metadata": {
        "colab": {
          "base_uri": "https://localhost:8080/"
        },
        "id": "QP44prcykIaj",
        "outputId": "cb61e9d1-b849-4698-a68e-b79317ccd738"
      },
      "execution_count": 6,
      "outputs": [
        {
          "output_type": "stream",
          "name": "stdout",
          "text": [
            "File 'automated_file.txt' has been created and the message has been written.\n"
          ]
        }
      ]
    }
  ]
}